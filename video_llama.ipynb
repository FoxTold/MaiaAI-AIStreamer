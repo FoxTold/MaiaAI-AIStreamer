{
 "cells": [
  {
   "cell_type": "code",
   "execution_count": 1,
   "id": "1ffa5107",
   "metadata": {},
   "outputs": [
    {
     "name": "stderr",
     "output_type": "stream",
     "text": [
      "/home/riba/ai-streamer/.venv/lib/python3.12/site-packages/tqdm/auto.py:21: TqdmWarning: IProgress not found. Please update jupyter and ipywidgets. See https://ipywidgets.readthedocs.io/en/stable/user_install.html\n",
      "  from .autonotebook import tqdm as notebook_tqdm\n",
      "Loading checkpoint shards: 100%|██████████| 4/4 [00:03<00:00,  1.28it/s]\n"
     ]
    }
   ],
   "source": [
    "import torch\n",
    "from transformers import AutoModelForCausalLM, AutoProcessor\n",
    "\n",
    "model_name = \"DAMO-NLP-SG/VideoLLaMA3-7B\"\n",
    "\n",
    "question = \"Continue describing what's happening now on livestream.\"\n",
    "\n",
    "model = AutoModelForCausalLM.from_pretrained(\n",
    "    model_name,\n",
    "    device_map=\"cuda\",\n",
    "    trust_remote_code=True,\n",
    "    torch_dtype=torch.bfloat16,\n",
    ")\n",
    "\n",
    "processor = AutoProcessor.from_pretrained(model_name, trust_remote_code=True)\n"
   ]
  },
  {
   "cell_type": "code",
   "execution_count": 2,
   "id": "7ea8178c",
   "metadata": {},
   "outputs": [
    {
     "name": "stdout",
     "output_type": "stream",
     "text": [
      "['output_000.mp4', 'output_001.mp4', 'output_002.mp4', 'output_003.mp4', 'output_004.mp4', 'output_005.mp4', 'output_006.mp4', 'output_007.mp4', 'output_008.mp4', 'output_009.mp4', 'output_010.mp4', 'output_011.mp4', 'output_012.mp4', 'output_013.mp4', 'output_014.mp4', 'output_015.mp4', 'output_016.mp4', 'output_017.mp4', 'output_018.mp4', 'output_019.mp4', 'output_020.mp4', 'output_021.mp4', 'output_022.mp4', 'output_023.mp4', 'output_024.mp4', 'output_025.mp4', 'output_026.mp4', 'output_027.mp4', 'output_028.mp4', 'output_029.mp4', 'output_030.mp4', 'output_031.mp4', 'output_032.mp4', 'output_033.mp4', 'output_034.mp4', 'output_035.mp4', 'output_036.mp4', 'output_037.mp4', 'output_038.mp4', 'output_039.mp4', 'output_040.mp4', 'output_041.mp4', 'output_042.mp4', 'output_043.mp4', 'output_044.mp4', 'output_045.mp4', 'output_046.mp4', 'output_047.mp4', 'output_048.mp4', 'output_049.mp4', 'output_050.mp4', 'output_051.mp4', 'output_052.mp4', 'output_053.mp4', 'output_054.mp4', 'output_055.mp4', 'output_056.mp4', 'output_057.mp4', 'output_058.mp4', 'output_059.mp4', 'output_060.mp4', 'output_061.mp4', 'output_062.mp4', 'output_063.mp4', 'output_064.mp4', 'output_065.mp4', 'output_066.mp4', 'output_067.mp4', 'output_068.mp4', 'output_069.mp4', 'output_070.mp4', 'output_071.mp4', 'output_072.mp4', 'output_073.mp4', 'output_074.mp4', 'output_075.mp4', 'output_076.mp4', 'output_077.mp4']\n"
     ]
    }
   ],
   "source": [
    "import os\n",
    "folder_name = \"clips\"\n",
    "files = sorted(os.listdir(folder_name))\n",
    "print(files)"
   ]
  },
  {
   "cell_type": "code",
   "execution_count": 3,
   "id": "0c247e16",
   "metadata": {},
   "outputs": [
    {
     "name": "stdout",
     "output_type": "stream",
     "text": [
      "0 : The player is currently navigating through the menu of a Minecraft Java Edition game. They are in a cave-like environment with stone walls and floors, and there are several ghost-like entities floating around. The player's avatar, represented by a blocky character head, is visible on the left side of the screen. The player appears to be deciding which mode to start the game in, as options such as Singleplayer, Multiplayer, Minecraft Realms, Options, and Quit Game are displayed on the screen.\n",
      "1 : The player is currently in a dense forest environment, surrounded by tall trees with green leaves. They are holding a red and black tool, presumably for breaking blocks, as indicated by the text \"Block breaking\" at the bottom right of the screen. The player's health is displayed at the top left corner with red hearts.\n",
      "2 : The player is mining stone blocks in a Minecraft cave, breaking them to collect resources.\n",
      "3 : The player is holding a sword and standing in front of a wall. The player seems to be preparing for combat, possibly anticipating an attack or looking for an opportunity to strike.\n",
      "4 : The player is standing near a tall, leafy tree in an open field with mountains in the distance. The sky is clear with scattered clouds. The player's health and hunger bars are visible at the bottom of the screen. The player seems to be preparing to interact with the tree, possibly to harvest its resources.\n",
      "5 : I'm sorry, but I can't provide a description of the video content as it is not available. However, I can help answer questions or provide information related to Minecraft gameplay or mechanics.\n",
      "6 : The player is standing in a grassy field with sheep nearby. The player's health and hunger bars are visible at the bottom of the screen, along with an inventory showing various items such as food and tools. There is no indication of any immediate action being taken by the player or any other entities in the scene.\n",
      "7 : The player is mining a stone block with a pickaxe.\n",
      "8 : The player is standing in a grassy field with several cows nearby. The player's health and hunger bars are visible at the bottom of the screen, along with a hotbar containing various items. The player seems to be observing the cows, which are grazing peacefully.\n",
      "9 : The player is navigating through a Minecraft village, moving forward along a dirt path. The player's inventory is visible at the bottom of the screen, showing various items such as wooden planks, cobblestone, and tools.\n",
      "10 : The player is standing next to a wooden farm bed containing crops and a water source. They are holding a tool, possibly a hoe or a similar farming implement. The player seems to be preparing to tend to the crops, perhaps by watering them or breaking up the soil.\n",
      "11 : The player is currently interacting with a chest inside a wooden house. The chest interface is open, showing various items such as apples, a bow, and crafting materials. The player's inventory also displays several tools and resources. The environment outside the house appears to be a grassy field during the day.\n",
      "12 : The player is inside a stone-walled room, holding a pickaxe. They are looking towards a wooden door with glass panes at the top. The player's health and hunger bars are visible at the bottom of the screen, along with their inventory, which contains various items including a book titled \"Villager mumbles.\" The player appears to be preparing to interact with the door or the surrounding environment.\n",
      "13 : The player is standing in front of a wooden house with stone accents, holding a pickaxe. The environment is a grassy area with trees and a mountain range in the background. The player seems to be preparing to interact with the house or its surroundings.\n",
      "14 : The player is standing on a wooden platform, looking down at the ground below. The player's health and hunger bars are visible on the screen, along with their inventory. The player seems to be observing the surroundings, possibly planning their next move.\n",
      "15 : The player is standing in a grassy field, facing a small wooden house with a stone foundation. The player's inventory is visible at the bottom of the screen, showing various items and tools. The player seems to be preparing for some activity, possibly gathering resources or building something.\n",
      "16 : The player is standing at the edge of a body of water, holding a bucket. They are looking down at the water and appear to be preparing to interact with it.\n",
      "17 : The player is currently interacting with a crafting table, opening its interface to manage their inventory. The screen displays various items and resources such as tools, materials, and crafted items. The environment is a grassy field at dusk or dawn, with a crafting table in the foreground and a chest nearby.\n",
      "18 : The player is standing in front of a row of furnaces and chests, with one of the chests open. The player's inventory is visible at the bottom of the screen, showing various items. The player seems to be preparing to use the furnace, possibly to smelt an item.\n",
      "19 : The player is holding a wooden sword and standing in an open grassy field with a clear blue sky. The player seems to be preparing to engage in combat or defend against an unseen threat.\n",
      "20 : The player is placing a dirt block on the ground in a grassy field, with mountains and trees in the background. The player's health and inventory are visible at the bottom of the screen.\n",
      "21 : The player is standing in an open grassy area with a village in the background, near some chests. The sun is setting, casting a warm glow over the scene. The player appears to be holding a red and black item, possibly a tool or weapon, in their hand. The inventory bar at the bottom of the screen shows various items and resources, including food, tools, and armor.\n",
      "22 : The player is lying on a bed, which is placed on the ground in a grassy area. It is raining, as indicated by the blue streaks falling from the sky. The player seems to be resting or sleeping, as there is no movement or action occurring.\n",
      "23 : The player is currently using a pickaxe to mine a dirt block in a grassy field. The player's health and hunger bars are visible, along with the inventory at the bottom of the screen.\n",
      "24 : The player is holding a shovel and appears to be standing on a dirt path with grass patches, surrounded by a grassy landscape. They are looking down at the ground, possibly preparing to dig or move dirt.\n",
      "25 : The player is standing in a narrow corridor of a Minecraft cave, facing a stone pressure plate on the ground. The player's inventory is visible at the bottom of the screen, showing various items such as cobblestone blocks, a pickaxe, and food. The player seems to be observing the pressure plate, possibly preparing to interact with it.\n",
      "26 : The player is standing at the edge of a dirt pit, observing the surroundings. The environment consists of grassy terrain with trees and hills in the background, and there are several structures resembling houses with thatched roofs. The player's inventory is visible, showing various items such as tools, blocks, and food. The player seems to be preparing for an action, possibly about to interact with the environment or the animal nearby.\n",
      "27 : The player is standing in a narrow corridor with stone walls, facing a large, smooth gray stone block. They are holding a tool in their right hand, likely an axe or pickaxe, ready to interact with the block. The player's health and hunger bars are visible at the bottom of the screen, indicating they are currently alive and have some food available. The player seems to be preparing to mine or break the stone block.\n",
      "28 : The player is mining cobblestone blocks in a dimly lit underground cave. The player's health and hunger bars are visible, along with the inventory at the bottom of the screen showing various items and tools.\n",
      "29 : The player is standing on a dirt path between two wooden houses with cobblestone foundations. They are looking ahead towards a grassy hill with trees and another structure in the distance. The player's health bar is full, and their inventory is visible at the bottom of the screen, showing various items such as tools, blocks, and food. There are no other players or mobs in sight.\n",
      "30 : The player is actively chopping down a tall oak tree with a wooden pickaxe, causing chunks of wood to break off and fall. The sky is clear with a few scattered clouds, indicating daytime gameplay. The player's health bar and inventory are visible at the bottom of the screen, showing their current status and available items.\n",
      "31 : The player is actively chopping down a large tree with an axe, causing blocks of wood to fall and scatter around the area. The environment consists of dense foliage, with the tree being the central focus of the action.\n",
      "32 : The player is in a Minecraft world, actively chopping down a large tree with an axe. The tree is located in an open field with a clear blue sky above. As the player chops, the tree blocks break and fall to the ground. The player's health bar shows they are currently at full health and hunger level.\n",
      "33 : The player is placing a wooden block on top of another structure, likely continuing the construction or reinforcement of a building. The environment remains consistent with grassy terrain and the player's inventory is visible at the bottom of the screen, showing various items and resources available for use.\n",
      "34 : The player is placing a wooden block on the cobblestone ground, near a wooden structure. The environment consists of grassy areas and trees in the background.\n",
      "35 : The player is currently interacting with a structure made of wooden planks and cobblestone, likely part of a building or a pathway. The player seems to be placing or adjusting the wooden blocks on the structure. The environment consists of grassy terrain with hills in the background, and there are other structures visible in the distance. The player's health and hunger bars are visible at the bottom of the screen, indicating their current status within the game.\n",
      "36 : The player is standing inside a wooden structure with cobblestone flooring, looking down at a hole in the ground. There is a wooden platform above with another character standing on it. The sky is clear blue with some clouds.\n",
      "37 : The player is currently standing on a wooden platform, facing an open inventory chest. The chest contains various items, including what appears to be a crafting table and some other unidentified objects. The player's health bar is full, indicating that they are not currently taking any damage. The environment around the player is a grassy, hilly area with trees and a few structures in the distance. The player seems to be preparing for some action, possibly related to the items in the chest.\n",
      "38 : The player is placing oak planks on the ground, likely constructing or modifying a structure.\n",
      "39 : The player is currently interacting with the crafting interface in the game Minecraft. The interface is open, displaying a 3x3 grid of slots where various items are arranged. In the inventory section, there are multiple stacks of oak planks, indicating that the player has collected them. The player's hand is visible, holding a tool or item that is not clearly identifiable from this angle. The environment around the player appears to be an outdoor area with grass and dirt blocks.\n",
      "40 : The player is standing on a grassy hill, looking towards a village with several small houses in the distance. The sky is clear with a few scattered clouds. There are no visible mobs or other players at this moment. The player's inventory is displayed at the bottom of the screen, showing various items such as blocks, tools, and food.\n",
      "41 : The player is chopping down a tree with an axe.\n",
      "42 : The player is using an axe to break a block of wood from the tree, and their health bar shows they are currently at full health. The environment is a Minecraft world with blocky trees, grass blocks, and a dirt path. The player's inventory is visible in the lower part of the screen, showing various items including tools and resources.\n",
      "43 : The player is currently interacting with the crafting menu in a wooden structure. The inventory shows various items such as tools, materials, and an oak log, which is highlighted. The player appears to be preparing to craft something with the selected oak log.\n",
      "44 : I'm sorry, but I can't provide a description of the video as there is no video provided.\n",
      "45 : The player is currently interacting with a wooden structure, likely part of a larger building or farm. The player is holding a white bucket and appears to be pouring its contents into the wooden structure, which might be a water source or a container for resources.\n",
      "46 : Time 1387.4s: The player is placing wooden planks on top of a cobblestone pathway, extending it towards a grassy field with flowers and a mountainous landscape in the background.\n",
      "47 : The player is standing on a wooden platform, looking down at the grassy ground. They have just placed an oak slab on the edge of the platform, extending the structure outward. The surrounding environment includes a village with several houses made of wood and stone, as well as trees and fields in the background.\n",
      "48 : The player is standing outside a wooden house, with their inventory visible at the bottom of the screen. The surroundings include a grassy area and a mountainous landscape in the background. There are no other entities or significant movements happening at this moment.\n",
      "49 : The player character stands facing a wooden house in a grassy landscape with mountains in the background. They are next to a stone well, holding a bucket, and appear to be interacting with it, likely drawing water. The player's health and inventory are visible at the bottom of the screen.\n",
      "50 : The player is currently inside a wooden structure, likely a house or a crafting area, and is interacting with the crafting interface. They are managing their inventory, which includes various items such as wooden planks, sticks, and tools. The player appears to be preparing materials for crafting or organizing their items within the game.\n",
      "51 : The player is standing in front of a wooden house, facing a closed chest. The player's inventory bar shows various items, including a pickaxe, a bucket, and some food. The player appears to be preparing to interact with the chest.\n",
      "52 : The player is standing in front of a wooden structure, possibly a house or a barn, with torches on the walls. The player's health and hunger bars are visible at the bottom of the screen, along with an inventory showing various items such as wood, tools, and food. The player seems to be observing the environment and preparing for some action, possibly building or gathering resources.\n",
      "53 : The player is holding a tool, probably a pickaxe, and is standing close to the wooden structure. A chicken is seen in the foreground, clucking nearby. The player seems to be preparing for an action, possibly about to interact with the environment or the chicken.\n",
      "54 : The player is standing next to a wooden house, observing the surrounding environment. In front of the house, there's a small farm with crops growing in the soil. The player seems to be stationary, looking at the crops.\n",
      "55 : The player is standing near a wooden structure with a small pool of water on the ground. They are holding an empty bucket, indicated by the \"Bucket empties\" message at the bottom right corner of the screen. The player's health and hunger bars are visible at the bottom center, showing their current status. The player appears to be preparing to interact with the water or the wooden structure in some way.\n",
      "56 : The player is standing on a grassy surface with dirt blocks, next to a large wooden structure that appears to be a house or shelter. The player seems to be holding a tool, possibly a pickaxe, and is interacting with the environment, likely preparing to break or manipulate the blocks around them.\n",
      "57 : The player is currently standing in a grassy area with scattered green blocks, facing a small wooden and stone house. They appear to be holding a tool or weapon, possibly preparing to interact with the environment or the house.\n",
      "58 : The player is standing on a grassy plain, facing a dirt block. The player's inventory is visible at the bottom of the screen, showing various items such as cobblestone, wooden planks, and a pickaxe. The player's health and hunger bars are also visible. The player appears to be in a peaceful environment with no mobs nearby.\n",
      "59 : The player character is in a grassy plain with scattered houses and trees in the background. The sky is blue with some clouds, and there's a clear glass block in the center of the frame. The player is holding an item in their hand, possibly preparing to interact with the environment.\n",
      "60 : The player is placing a block on the ground in front of a wooden house, with a garden to their left. The player's inventory shows various items and resources, and the health and hunger bars are visible at the bottom of the screen.\n",
      "61 : The player is standing in front of a wooden house with torches on the walls and a garden with crops in front. The player seems to be observing the surroundings.\n",
      "62 : The player is currently in a room with stone walls and floor, and wooden doors. The player is holding an oak door and seems to be placing it on the wall. The player's health and hunger bars are visible at the bottom of the screen.\n",
      "63 : The player is standing in front of a wooden house, surrounded by grass and dirt blocks. The player's health bar shows full hearts, indicating no damage. The player's inventory is visible at the bottom of the screen, showing various items such as tools and food. The player seems to be stationary, looking towards the house, possibly preparing for an action or simply observing the environment.\n",
      "64 : I'm sorry, but I cannot provide a description of the current scene as you have not provided any new information or events to describe. Please provide a description of what is happening in the livestream so I can assist you accordingly.\n",
      "65 : The player is standing in a dimly lit stone room, holding a stone shovel. The environment consists of stone walls and floors with a wooden ceiling. The player seems to be examining the surroundings or preparing to dig, as indicated by the item in their hand and the action bar at the bottom of the screen displaying various items.\n",
      "66 : The player is actively breaking blocks of dirt and stone in a grassy area. The environment consists of various terrain features, including grass, dirt, and stone. The player's health and inventory are displayed at the bottom of the screen, showing their current status and available resources.\n",
      "67 : The player is in a grassy landscape with mountains in the distance, next to a wooden fence and some crops. They are standing on a block of stone and looking at the environment.\n",
      "68 : The player is currently in a Minecraft game, standing inside a wooden house. They are opening their inventory to craft items using cobblestone. The player's health and hunger bars are visible at the bottom of the screen, indicating their current status in the game.\n",
      "69 : The player is inside a wooden house, holding a wooden axe. They are breaking a block of wood on the floor, as indicated by the on-screen text \"Block broken: Wood\". The player's inventory is visible, showing various items such as tools and resources.\n",
      "70 : The player is opening a large chest, which is located in a wooden room with stone flooring. The chest contains various items, and the player is viewing the contents of the chest by opening it.\n",
      "71 : The player is standing in a grassy field with several wooden houses and trees in the background. The sky is blue with scattered clouds, and there are mountains in the distance. The player's health and hunger bars are visible at the bottom of the screen, along with an item bar containing various tools and items. The player appears to be observing the surroundings, possibly preparing for an action or planning their next move.\n",
      "72 : The player is inside a wooden house in the game Minecraft. They are standing next to a crafting table and an armor stand, both of which are placed against a wall. The player has a stone pickaxe in their hand, as indicated by the item bar at the bottom of the screen. They appear to be looking around the room, possibly searching for something or preparing to craft or repair items.\n",
      "73 : The player is standing inside a wooden house with cobblestone flooring, facing an open chest. The player's health and hunger bars are visible at the bottom of the screen, along with an inventory showing various items such as food, tools, and materials. The player appears to be preparing to interact with the chest or possibly gather resources from it.\n",
      "74 : The player is standing inside a wooden house with stone flooring, looking around the interior. They seem to be holding something red and black in their hand.\n",
      "75 : The player is standing inside a wooden house, facing two chests. The player's inventory is visible at the bottom of the screen, showing various items and tools. The player seems to be preparing to interact with the chests, possibly to open them or examine their contents.\n",
      "76 : The player is currently inside a wooden house in the game Minecraft. The interior of the house has stone flooring and wooden walls, with several torches hanging from the ceiling for lighting. There are two beds on the left side of the room, a crafting table in the middle, and a furnace to the right. The player's health and hunger bars are visible at the bottom of the screen, along with an inventory showing various items such as a pickaxe, food, and blocks. The player seems to be exploring the house, possibly preparing for further actions like building or resource gathering.\n",
      "77 : I'm sorry, but I cannot continue describing what's happening on the livestream as it is not possible for me to access or view live content. If you provide a description of the scene or actions in the video, I can help you with that.\n"
     ]
    }
   ],
   "source": [
    "from collections import deque\n",
    "responses = []\n",
    "\n",
    "for idx, file in enumerate(files):\n",
    "\n",
    "    conversation = [\n",
    "        {\"role\": \"system\", \"content\": (\n",
    "            \"Focus only on what is visible on screen: the player’s actions, the environment, objects, mobs, structures, and movements.\"\n",
    "            \"Use clear and neutral language, without adding interpretations, emotions, or intentions unless they are explicitly shown.\"\n",
    "            \"Describe events in chronological order, as they occur in the stream.\"\n",
    "            \"If something is uncertain, indicate it with phrases like “probably” or “seems to.\"\n",
    "            \"Do not invent or add content that is not present in the stream.\"\n",
    "            \"Include relevant details such as colors, directions, locations, and interactions between entities.\"\n",
    "            \"You are watching a livestream. Always relate your answer to what has happened earlier, using the memory summary provided. If new events contradict older ones, update the summary.\"\n",
    "            \"You are a real-time narrator for a livestream. \"\n",
    "            \"If new events contradict previous ones, update the narrative accordingly.\"\n",
    "            \"Be concise (2–3 sentences), present tense\"\n",
    "        )},\n",
    "        {\n",
    "            \"role\": \"user\",\n",
    "            \"content\": [\n",
    "                {\n",
    "                    \"type\": \"video\",\n",
    "                    \"video\": {\n",
    "                        \"video_path\": f\"{folder_name}/{file}\",\n",
    "                        \"fps\": 60,\n",
    "                        \"max_frames\": 1  # Keep this LOW for 6GB VRAM\n",
    "                    },\n",
    "                },\n",
    "                {\"type\": \"text\", \"text\": question},\n",
    "                \n",
    "            ]\n",
    "        },\n",
    "    ]\n",
    "\n",
    "    inputs = processor(conversation=conversation, return_tensors=\"pt\")\n",
    "    inputs = {k: v.cuda() if isinstance(v, torch.Tensor) else v for k, v in inputs.items()}\n",
    "    if \"pixel_values\" in inputs:\n",
    "        inputs[\"pixel_values\"] = inputs[\"pixel_values\"].to(torch.bfloat16)\n",
    "    output_ids = model.generate(**inputs, max_new_tokens=256)\n",
    "    response = processor.batch_decode(output_ids, skip_special_tokens=True)[0].strip()    \n",
    "    responses.append({file : response})\n",
    "    print(f\"{idx} : {response}\")\n",
    "    torch.cuda.empty_cache()\n"
   ]
  },
  {
   "cell_type": "code",
   "execution_count": 4,
   "id": "d0d8a385",
   "metadata": {},
   "outputs": [],
   "source": [
    "import json\n",
    "\n",
    "with open(\"visual_prompts.json\", \"w\") as fp:\n",
    "    fp.write(\"{\")\n",
    "    for line in responses:\n",
    "        fp.write(f\"{line},\\n\")\n",
    "    fp.write(\"}\")\n"
   ]
  }
 ],
 "metadata": {
  "kernelspec": {
   "display_name": ".venv (3.12.3)",
   "language": "python",
   "name": "python3"
  },
  "language_info": {
   "codemirror_mode": {
    "name": "ipython",
    "version": 3
   },
   "file_extension": ".py",
   "mimetype": "text/x-python",
   "name": "python",
   "nbconvert_exporter": "python",
   "pygments_lexer": "ipython3",
   "version": "3.12.3"
  }
 },
 "nbformat": 4,
 "nbformat_minor": 5
}
